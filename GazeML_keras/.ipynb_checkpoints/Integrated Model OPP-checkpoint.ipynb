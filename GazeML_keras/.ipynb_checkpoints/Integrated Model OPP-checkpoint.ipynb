{
 "cells": [
  {
   "cell_type": "markdown",
   "id": "willing-format",
   "metadata": {},
   "source": [
    "# Cropping Models\n",
    "\n",
    "https://github.com/shaoanlu/GazeML-keras"
   ]
  },
  {
   "cell_type": "code",
   "execution_count": 1,
   "id": "improved-bosnia",
   "metadata": {},
   "outputs": [
    {
     "name": "stdout",
     "output_type": "stream",
     "text": [
      "<function Network.conv at 0x7f4e506c4700>\n",
      "<function Network.prelu at 0x7f4e506c49d0>\n",
      "<function Network.max_pool at 0x7f4e506c4c10>\n",
      "<function Network.fc at 0x7f4e506c4e50>\n",
      "<function Network.softmax at 0x7f4e506c50d0>\n"
     ]
    }
   ],
   "source": [
    "# Imports\n",
    "\n",
    "import pandas as pd\n",
    "import os\n",
    "import io \n",
    "import cv2\n",
    "import numpy as np\n",
    "from matplotlib import pyplot as plt\n",
    "from keras.models import load_model\n",
    "from detector.face_detector import MTCNNFaceDetector\n",
    "import tensorflow as tf\n",
    "from tensorflow.keras import datasets, layers, models\n",
    "import matplotlib.pyplot as plt\n",
    "\n"
   ]
  },
  {
   "cell_type": "markdown",
   "id": "stuck-african",
   "metadata": {},
   "source": [
    "## Models Integration\n"
   ]
  },
  {
   "cell_type": "code",
   "execution_count": 2,
   "id": "acoustic-absence",
   "metadata": {},
   "outputs": [],
   "source": [
    "class Diagnose():\n",
    "    def __int__(self):\n",
    "        pass\n",
    "\n",
    "        \n",
    "    def Image_croping(self , image , detect_model_path):\n",
    "        \"\"\" return left eye and right eye image cropped\"\"\"\n",
    "       ## loading wieghts\n",
    "        fd = MTCNNFaceDetector(sess=tf.compat.v1.keras.backend.get_session(), model_path= detect_model_path) # loading face detection model\n",
    "        face, lms = fd.detect_face(image) # detect the number of faces \n",
    "        if len(face) == 1 : \n",
    "            left_eye_im, right_eye_im = fd.cropImage(image,lms)\n",
    "            return left_eye_im , right_eye_im , face\n",
    "        if len(face) > 1 :\n",
    "            return 'Multiple faces detected' , 'Multiple faces detected'  , face\n",
    "        return 'No face detected' ,  'No face detected' , face\n",
    "\n",
    "\n",
    "    def Eyes_diagnosis(self, left_eye_im , right_eye_im , diagnosis_model_path):\n",
    "\n",
    "        \"\"\" return description and probability of disease for each eye\"\"\"\n",
    "\n",
    "        model = load_model(diagnosis_model_path) # load disease detection model \n",
    "        ############################# left eye #############################\n",
    "        left_eye_im = cv2.resize(left_eye_im, (100, 100))  \n",
    "        left_eye_im = left_eye_im.reshape(1 ,100 , 100 , -1)\n",
    "\n",
    "        left_eye_im_diagnosis = model.predict(left_eye_im)\n",
    "\n",
    "        if left_eye_im_diagnosis > 0.56:\n",
    "            left_eye_im_desc =  ' Left Eye : Cataract detected'\n",
    "        else :\n",
    "            left_eye_im_desc = 'Left Eye : No Cataract detected'\n",
    "\n",
    "\n",
    "        ############################# right eye #############################\n",
    "        right_eye_im = cv2.resize(right_eye_im, (100, 100))\n",
    "        right_eye_im = right_eye_im.reshape(1 ,100 , 100 , -1)\n",
    "        right_eye_im_diagnosis  = model.predict(right_eye_im)\n",
    "\n",
    "        if right_eye_im_diagnosis > 0.56:\n",
    "            right_eye_im_desc =  'Right Eye : Cataract detected'\n",
    "        else :\n",
    "            right_eye_im_desc = 'Right Eye : No Cataract detected'\n",
    "\n",
    "        return left_eye_im_desc ,left_eye_im_diagnosis[0], right_eye_im_desc , right_eye_im_diagnosis[0]\n",
    "\n",
    "    def Diagnose_patient(self , image , detect_model_path , diagnosis_model_path):\n",
    "        \n",
    "        \"\"\" return croped eye image, diagnosis descripition and probability for both eyes ( 6 output items) \"\"\"\n",
    "    \n",
    "        left_eye_im , right_eye_im , face = Diagnose.Image_croping(self, image , detect_model_path) # crop eyes & ensure image is good for diagnosis\n",
    "\n",
    "        if len(face) != 1 :\n",
    "            return left_eye_im , left_eye_im, left_eye_im , left_eye_im , left_eye_im , left_eye_im  \n",
    "\n",
    "        left_eye_im_desc ,left_eye_im_diagnosis, right_eye_im_desc , right_eye_im_diagnosis = Diagnose.Eyes_diagnosis(self , left_eye_im , right_eye_im , diagnosis_model_path) # diagnosis \n",
    "\n",
    "        return left_eye_im , left_eye_im_desc , left_eye_im_diagnosis , right_eye_im , right_eye_im_desc , right_eye_im_diagnosis\n",
    "\n",
    "\n",
    "\n",
    "\n"
   ]
  }
 ],
 "metadata": {
  "kernelspec": {
   "display_name": "Python 3",
   "language": "python",
   "name": "python3"
  },
  "language_info": {
   "codemirror_mode": {
    "name": "ipython",
    "version": 3
   },
   "file_extension": ".py",
   "mimetype": "text/x-python",
   "name": "python",
   "nbconvert_exporter": "python",
   "pygments_lexer": "ipython3",
   "version": "3.8.5"
  }
 },
 "nbformat": 4,
 "nbformat_minor": 5
}
