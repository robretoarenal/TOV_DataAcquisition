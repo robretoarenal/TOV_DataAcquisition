{
 "cells": [
  {
   "cell_type": "code",
   "execution_count": 38,
   "id": "irish-economics",
   "metadata": {},
   "outputs": [],
   "source": [
    "import os\n",
    "import urllib.request\n",
    "import cv2\n",
    "import pandas as pd\n",
    "import numpy as np\n",
    "from tqdm import tqdm"
   ]
  },
  {
   "cell_type": "markdown",
   "id": "rough-usage",
   "metadata": {},
   "source": [
    "Until now we have: \n",
    "   - 208 Cataracts. 175 from previous set and 33 from latest set \n",
    "   - 322 Healthy. 200 from previous set and 122 from latest set"
   ]
  },
  {
   "cell_type": "code",
   "execution_count": 58,
   "id": "equipped-physiology",
   "metadata": {},
   "outputs": [],
   "source": [
    "path = 'Datasets\\\\UNHAS'\n",
    "filename='UnhasImagesCataractsCropped.csv'\n",
    "filename2='UnhasImagesHealthyCropped.csv'\n",
    "csv_path=os.path.join(path,filename)\n",
    "csv_path2=os.path.join(path,filename2)\n",
    "df_cataracts = pd.read_csv(csv_path)\n",
    "df_healthy = pd.read_csv(csv_path2)"
   ]
  },
  {
   "cell_type": "code",
   "execution_count": 65,
   "id": "southern-combine",
   "metadata": {},
   "outputs": [
    {
     "name": "stdout",
     "output_type": "stream",
     "text": [
      "       folder                                        filename  height  width  \\\n",
      "0  17-03-2021      WhatsApp Image 2021-03-17 at 08.28.40.jpeg    1280    988   \n",
      "1  17-03-2021  WhatsApp Image 2021-03-17 at 08.16.08 (1).jpeg     984   1045   \n",
      "2  17-03-2021      WhatsApp Image 2021-03-17 at 08.28.38.jpeg     227    324   \n",
      "3  17-03-2021  WhatsApp Image 2021-03-17 at 08.16.12 (1).jpeg     270    300   \n",
      "4  17-03-2021      WhatsApp Image 2021-03-24 at 11.53.24.jpeg     992   1280   \n",
      "\n",
      "   bands  filesize(KB)  \n",
      "0      3       161.712  \n",
      "1      3       550.775  \n",
      "2      3        42.335  \n",
      "3      3        50.687  \n",
      "4      3       130.944  \n",
      "          folder                                        filename  height  \\\n",
      "0  Koass unismuh      WhatsApp Image 2021-03-20 at 08.33.13.jpeg     978   \n",
      "1  Koass unismuh  WhatsApp Image 2021-03-23 at 12.10.21 (2).jpeg     914   \n",
      "2  Koass unismuh      WhatsApp Image 2021-03-24 at 10.39.05.jpeg    1016   \n",
      "3  Koass unismuh      WhatsApp Image 2021-03-24 at 15.34.55.jpeg    1280   \n",
      "4  Koass unismuh  WhatsApp Image 2021-03-23 at 12.10.22 (1).jpeg     806   \n",
      "\n",
      "   width  bands  filesize(KB)  \n",
      "0    890      3        80.397  \n",
      "1   1280      3        99.444  \n",
      "2   1024      3        80.982  \n",
      "3    960      3       188.065  \n",
      "4   1280      3        78.501  \n"
     ]
    }
   ],
   "source": [
    "print(df_cataracts.head())\n",
    "print(df_healthy.head())"
   ]
  },
  {
   "cell_type": "code",
   "execution_count": 46,
   "id": "comprehensive-consequence",
   "metadata": {},
   "outputs": [
    {
     "name": "stderr",
     "output_type": "stream",
     "text": [
      "100%|███████████████████████████████████████████████████████████████████████████████| 208/208 [00:00<00:00, 248.17it/s]\n"
     ]
    }
   ],
   "source": [
    "#Reading cataract images\n",
    "cat_images = []\n",
    "noread = []\n",
    "path_cat_images=os.path.join(path,'UnhasImagesCataractsCropped')\n",
    "file_names = df_cataracts.filename\n",
    "row=64\n",
    "col=64\n",
    "\n",
    "for image_name in tqdm(file_names):\n",
    "    try:\n",
    "        image = cv2.imread(os.path.join(path_cat_images,image_name))\n",
    "        image = cv2.resize(image,(row,col))\n",
    "        cat_images.append(image)\n",
    "    except:\n",
    "        noread.append(image_name)\n",
    "        continue\n",
    "\n",
    "cat_images = np.array(cat_images)\n",
    "noread = np.array(noread)"
   ]
  },
  {
   "cell_type": "code",
   "execution_count": 66,
   "id": "fresh-montreal",
   "metadata": {},
   "outputs": [
    {
     "data": {
      "text/plain": [
       "(208, 64, 64, 3)"
      ]
     },
     "execution_count": 66,
     "metadata": {},
     "output_type": "execute_result"
    }
   ],
   "source": [
    "cat_images.shape"
   ]
  },
  {
   "cell_type": "code",
   "execution_count": 61,
   "id": "further-devil",
   "metadata": {},
   "outputs": [
    {
     "name": "stderr",
     "output_type": "stream",
     "text": [
      "100%|███████████████████████████████████████████████████████████████████████████████| 322/322 [00:02<00:00, 147.10it/s]\n"
     ]
    }
   ],
   "source": [
    "#Reading healthy images\n",
    "healthy_images = []\n",
    "noread = []\n",
    "path_cat_images=os.path.join(path,'UnhasImagesHealthyCropped')\n",
    "file_names = df_healthy.filename\n",
    "row=64\n",
    "col=64\n",
    "\n",
    "for image_name in tqdm(file_names):\n",
    "    try:\n",
    "        image = cv2.imread(os.path.join(path_cat_images,image_name))\n",
    "        image = cv2.resize(image,(row,col))\n",
    "        healthy_images.append(image)\n",
    "    except:\n",
    "        noread.append(image_name)\n",
    "        continue\n",
    "        \n",
    "healthy_images = np.array(healthy_images)\n",
    "noread = np.array(noread)"
   ]
  },
  {
   "cell_type": "code",
   "execution_count": 63,
   "id": "golden-jacket",
   "metadata": {},
   "outputs": [
    {
     "data": {
      "text/plain": [
       "(322, 64, 64, 3)"
      ]
     },
     "execution_count": 63,
     "metadata": {},
     "output_type": "execute_result"
    }
   ],
   "source": [
    "healthy_images.shape"
   ]
  },
  {
   "cell_type": "code",
   "execution_count": null,
   "id": "exciting-circulation",
   "metadata": {},
   "outputs": [],
   "source": []
  }
 ],
 "metadata": {
  "kernelspec": {
   "display_name": "Python 3",
   "language": "python",
   "name": "python3"
  },
  "language_info": {
   "codemirror_mode": {
    "name": "ipython",
    "version": 3
   },
   "file_extension": ".py",
   "mimetype": "text/x-python",
   "name": "python",
   "nbconvert_exporter": "python",
   "pygments_lexer": "ipython3",
   "version": "3.7.9"
  }
 },
 "nbformat": 4,
 "nbformat_minor": 5
}
